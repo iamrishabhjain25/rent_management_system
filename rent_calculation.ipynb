{
 "cells": [
  {
   "cell_type": "code",
   "execution_count": 1,
   "id": "89fa279c-1828-4000-823e-a46afa42da4c",
   "metadata": {},
   "outputs": [],
   "source": [
    "import numpy as np\n",
    "import pandas as pd\n",
    "import xlwings as xw\n",
    "\n",
    "import sqlalchemy\n",
    "from sqlalchemy import create_engine\n",
    "import os\n",
    "import datetime as dt\n",
    "import sqlite3\n",
    "import unittest\n",
    "\n",
    "\n",
    "pd.set_option('display.max_rows', 100)"
   ]
  },
  {
   "cell_type": "markdown",
   "id": "7353ed39-ea09-47d8-87dd-f9ace9d68836",
   "metadata": {},
   "source": [
    "\n",
    " - Single occupancy management\n",
    "\n",
    "\n",
    " - 1f 18+ then police verification ref field\n",
    " \n",
    "\n",
    " - create a record history for new admission, updation of resident or electricity record\n",
    " \n",
    " add name in transaction history\n",
    "\n",
    " \n",
    "\n",
    " \n",
    " \n",
    "\n",
    " \n",
    "\n",
    " \n",
    " \n",
    " \n",
    " "
   ]
  },
  {
   "cell_type": "code",
   "execution_count": 2,
   "id": "64399e1f-5cd8-4080-bacc-df0096f423e2",
   "metadata": {},
   "outputs": [
    {
     "ename": "NameError",
     "evalue": "name 'pd' is not defined",
     "output_type": "error",
     "traceback": [
      "\u001b[1;31m---------------------------------------------------------------------------\u001b[0m",
      "\u001b[1;31mNameError\u001b[0m                                 Traceback (most recent call last)",
      "Cell \u001b[1;32mIn[2], line 1\u001b[0m\n\u001b[1;32m----> 1\u001b[0m temp \u001b[38;5;241m=\u001b[39m \u001b[43mpd\u001b[49m\u001b[38;5;241m.\u001b[39mread_excel(\u001b[38;5;124m\"\u001b[39m\u001b[38;5;124mmain.xlsx\u001b[39m\u001b[38;5;124m\"\u001b[39m, sheet_name\u001b[38;5;241m=\u001b[39m\u001b[38;5;124m\"\u001b[39m\u001b[38;5;124mDB\u001b[39m\u001b[38;5;124m\"\u001b[39m, parse_dates\u001b[38;5;241m=\u001b[39m[\u001b[38;5;124m\"\u001b[39m\u001b[38;5;124mDateofAdmission\u001b[39m\u001b[38;5;124m\"\u001b[39m, \u001b[38;5;124m\"\u001b[39m\u001b[38;5;124mDateofBirth\u001b[39m\u001b[38;5;124m\"\u001b[39m, \u001b[38;5;124m\"\u001b[39m\u001b[38;5;124mRentStartDate\u001b[39m\u001b[38;5;124m\"\u001b[39m], dtype\u001b[38;5;241m=\u001b[39m\u001b[38;5;124m\"\u001b[39m\u001b[38;5;124mO\u001b[39m\u001b[38;5;124m\"\u001b[39m)\n",
      "\u001b[1;31mNameError\u001b[0m: name 'pd' is not defined"
     ]
    }
   ],
   "source": [
    "temp = pd.read_excel(\"main.xlsx\", sheet_name=\"DB\", parse_dates=[\"DateofAdmission\", \"DateofBirth\", \"RentStartDate\"], dtype=\"O\")"
   ]
  },
  {
   "cell_type": "code",
   "execution_count": 3,
   "id": "8f9bc204-6ac9-4cbd-b02d-15ea0bdc6715",
   "metadata": {
    "scrolled": true,
    "tags": []
   },
   "outputs": [
    {
     "ename": "NameError",
     "evalue": "name 'temp' is not defined",
     "output_type": "error",
     "traceback": [
      "\u001b[1;31m---------------------------------------------------------------------------\u001b[0m",
      "\u001b[1;31mNameError\u001b[0m                                 Traceback (most recent call last)",
      "Cell \u001b[1;32mIn[3], line 1\u001b[0m\n\u001b[1;32m----> 1\u001b[0m \u001b[43mtemp\u001b[49m\n",
      "\u001b[1;31mNameError\u001b[0m: name 'temp' is not defined"
     ]
    }
   ],
   "source": [
    "temp"
   ]
  },
  {
   "cell_type": "code",
   "execution_count": 14,
   "id": "87996cac-8a56-46d0-99ec-b4df09843616",
   "metadata": {
    "scrolled": true,
    "tags": []
   },
   "outputs": [
    {
     "data": {
      "text/plain": [
       "True"
      ]
     },
     "execution_count": 14,
     "metadata": {},
     "output_type": "execute_result"
    }
   ],
   "source": [
    "any(temp[[\"EnrollmentID\", \"Name\", \"ContactNumber\"]].isna().any(axis=0))"
   ]
  },
  {
   "cell_type": "code",
   "execution_count": 56,
   "id": "25bf40bd-a053-4d37-ae9d-6bba40b0af5d",
   "metadata": {},
   "outputs": [
    {
     "data": {
      "text/plain": [
       "array(['1', '2', '3', '4', '5', '6', '7', '8', '9', '10', '11', '101',\n",
       "       '102', '103', '104', '105', '106', '107', '108', '109', '110',\n",
       "       '111', '112', '113', '114', '115', '116', '117', '201', '202',\n",
       "       '203', '204', '205', '206', '207', '208', '209', '210', '211',\n",
       "       '212', '213', '214', '215', '216', '217'], dtype=object)"
      ]
     },
     "execution_count": 56,
     "metadata": {},
     "output_type": "execute_result"
    }
   ],
   "source": [
    "temp[\"RoomNo\"].unique()"
   ]
  },
  {
   "cell_type": "code",
   "execution_count": 57,
   "id": "30738107-a0b6-4450-b1c6-8a85ff6068b0",
   "metadata": {},
   "outputs": [
    {
     "data": {
      "text/plain": [
       "Index(['EnrollmentID', 'BedID', 'RoomNo', 'DateofAdmission', 'Name',\n",
       "       'FathersName', 'DateofBirth', 'ContactNumber', 'OtherContact',\n",
       "       'FathersContact', 'MothersContact', 'AdditionalContact', 'Email',\n",
       "       'Address', 'BloodGroup', 'ResidentAadhar', 'FathersAadhar',\n",
       "       'InstituteName', 'InstituteAddress', 'Course', 'Batch',\n",
       "       'InstituteContact', 'InstituteContactOther', 'InstituteID',\n",
       "       'GuardianName', 'GuardianRelation', 'GuardianContact1',\n",
       "       'GuardianContact2', 'GuardianAddress', 'Rent', 'Deposit',\n",
       "       'RentStartDate'],\n",
       "      dtype='object')"
      ]
     },
     "execution_count": 57,
     "metadata": {},
     "output_type": "execute_result"
    }
   ],
   "source": [
    "temp.columns.str.replace(\"Room_\", \"\")"
   ]
  },
  {
   "cell_type": "code",
   "execution_count": 1,
   "id": "bcfeb03e-5e13-40b5-87b6-eff01e16bd27",
   "metadata": {},
   "outputs": [
    {
     "ename": "NameError",
     "evalue": "name 'temp' is not defined",
     "output_type": "error",
     "traceback": [
      "\u001b[1;31m---------------------------------------------------------------------------\u001b[0m",
      "\u001b[1;31mNameError\u001b[0m                                 Traceback (most recent call last)",
      "Cell \u001b[1;32mIn[1], line 1\u001b[0m\n\u001b[1;32m----> 1\u001b[0m \u001b[43mtemp\u001b[49m[[\u001b[38;5;124m\"\u001b[39m\u001b[38;5;124mDateofAdmission\u001b[39m\u001b[38;5;124m\"\u001b[39m, \u001b[38;5;124m\"\u001b[39m\u001b[38;5;124mDateofBirth\u001b[39m\u001b[38;5;124m\"\u001b[39m, \u001b[38;5;124m\"\u001b[39m\u001b[38;5;124mRentStartDate\u001b[39m\u001b[38;5;124m\"\u001b[39m]]\n",
      "\u001b[1;31mNameError\u001b[0m: name 'temp' is not defined"
     ]
    }
   ],
   "source": [
    "temp[[\"DateofAdmission\", \"DateofBirth\", \"RentStartDate\"]]"
   ]
  },
  {
   "cell_type": "code",
   "execution_count": null,
   "id": "2f64f939-352f-40ec-8fbe-1563530fc998",
   "metadata": {},
   "outputs": [],
   "source": []
  },
  {
   "cell_type": "code",
   "execution_count": null,
   "id": "e6ba4996-0475-4766-b7b8-6de8637f5398",
   "metadata": {},
   "outputs": [],
   "source": []
  },
  {
   "cell_type": "code",
   "execution_count": null,
   "id": "6ebb7e57-72d7-4de0-be40-9ba7f958ce4a",
   "metadata": {},
   "outputs": [],
   "source": []
  },
  {
   "cell_type": "code",
   "execution_count": null,
   "id": "21122abe-cbe2-406e-99e4-fed26c39fa8a",
   "metadata": {},
   "outputs": [],
   "source": []
  },
  {
   "cell_type": "code",
   "execution_count": null,
   "id": "09f71fb1-339b-41fc-9435-9048eb2cc432",
   "metadata": {},
   "outputs": [],
   "source": []
  },
  {
   "cell_type": "code",
   "execution_count": null,
   "id": "97b75ca6-fc4d-4fda-8be3-5a60913ed866",
   "metadata": {},
   "outputs": [],
   "source": [
    "def _process_resident_exit(self, row: pd.Series, monthly_factor: float = 30):\n",
    "        \"\"\"Process the workflow when a resident exits\"\"\"\n",
    "\n",
    "        curr_status = self.data_manager.load_current_status()\n",
    "        if not curr_status[self.uid].isin([row[self.uid]]).any():\n",
    "            raise ValueError(f\"Inlavid Exit. {self.uid}:{row[self.uid]} does not exist in status\")\n",
    "\n",
    "        curr_bed = curr_status.loc[curr_status[self.uid] == row[self.uid], self.bed_id].squeeze()\n",
    "        if curr_bed != row[self.bed_id]:\n",
    "            raise ValueError(f\"Invalid Exit. The bedID of exiting {self.uid} does not match this uid in status\")\n",
    "\n",
    "\n",
    "        row_with_calc = self._electricity_adjustment(adj_type=\"exit\", row=row)\n",
    "        row_with_calc = row_with_calc.rename(columns={\"TransDate\": \"ExitDate\",\"RoomElectricityReading\": \"ExitElectricityReading\",})\n",
    "        resident_info = self.data_manager.load_residents_info_table(filter_ids=row_with_calc[self.uid].values, filter_cols=[self.uid, \"Name\",\"Rent\", \"Deposit\"])\n",
    "        row_with_calc = row_with_calc.merge(resident_info, on=self.uid, how=\"left\")\n",
    "\n",
    "        row_with_calc[\"RentThruDate\"] = row[\"RentThruDate\"]\n",
    "        row_with_calc[\"PrevDueAmount\"] = row[\"PrevDueAmount\"]\n",
    "        row_with_calc[\"AdditionalCharges\"] = row[\"AdditionalCharges\"]\n",
    "        row_with_calc[\"Comments\"] = row[\"Comments\"]\n",
    "\n",
    "        row_with_calc[\"RentDays\"] = (row_with_calc[\"RentThruDate\"] - row_with_calc[\"LastRentCalcDate\"]).dt.days\n",
    "        row_with_calc[\"RentDue\"] = (row_with_calc[\"RentDays\"] * row_with_calc[\"Rent\"] / monthly_factor)\n",
    "        row_with_calc[\"ElectricityCharges\"] = (row_with_calc[\"CumulativeElectConsumption\"] * self.confs.elect_rate)\n",
    "\n",
    "        row_with_calc[\"TotalAmountDue\"] = row_with_calc[\"RentDue\"] + row_with_calc[\"ElectricityCharges\"] + row_with_calc[\"PrevDueAmount\"] + row_with_calc[\"AdditionalCharges\"]\n",
    "        row_with_calc[\"NetAmountDue\"] = (row_with_calc[\"TotalAmountDue\"] - row_with_calc[\"Deposit\"])\n",
    "        self.data_manager.insert_final_settlement_record(row_with_calc)\n",
    "        return row_with_calc\n"
   ]
  },
  {
   "cell_type": "code",
   "execution_count": null,
   "id": "e1bbbf77-78d6-4834-b0d8-1465f07a9630",
   "metadata": {},
   "outputs": [],
   "source": []
  },
  {
   "cell_type": "code",
   "execution_count": null,
   "id": "cd8bc0c8-a8e0-4d2c-820b-f9868064a7ac",
   "metadata": {},
   "outputs": [],
   "source": []
  },
  {
   "cell_type": "code",
   "execution_count": null,
   "id": "0786d625-ee33-4d31-9359-94ee64f41af2",
   "metadata": {},
   "outputs": [],
   "source": [
    "# prev_adjustments = self.load_last_adjustments_table()\n",
    "\n",
    "            # room_prev_adj = prev_adjustments.loc[prev_adjustments[self.roomID]==row[self.roomID]].copy()\n",
    "            # room_prev_adj[\"TransDate\"] = row['TransDate']\n",
    "            # room_prev_adj[\"NewRoomElectricityReading\"] = row[\"RoomElectricityReading\"] \n",
    "            # room_prev_adj[\"RoomElectricityConsumption\"] = room_prev_adj[\"NewRoomElectricityReading\"] -  room_prev_adj[\"RoomElectricityReading\"]\n",
    "            # room_prev_adj[\"CumulativeElectConsumption\"] = room_prev_adj[\"CumulativeElectConsumption\"] + (room_prev_adj[\"RoomElectricityConsumption\"] / uids_count_before_trans)\n",
    "            \n",
    "            # room_prev_adj =room_prev_adj.drop([\"RoomElectricityReading\",\"RoomElectricityConsumption\"], axis=1).rename(columns={\"NewRoomElectricityReading\" : \"RoomElectricityReading\"})\n",
    "            \n",
    "            # # Saving the record for the exiting uid\n",
    "            # exiting_record = room_prev_adj[room_prev_adj[self.uid]==row[self.uid]].copy()\n",
    "            \n",
    "            # # Removing the exiting uid from both \n",
    "            # room_prev_adj_post_trans = room_prev_adj[room_prev_adj[self.uid]!=row[self.uid]]\n",
    "            \n",
    "            # # Removing the room details from prev adjustments\n",
    "            # updated_adjustments = prev_adjustments[prev_adjustments[self.roomID]!=row[self.roomID]].copy()\n",
    "            # updated_adjustments = pd.concat([updated_adjustments, room_prev_adj_post_trans])\n",
    "            # self.update_adjsutments_records(updated_adjustments, if_exists=\"replace\")\n",
    "            \n",
    "            # # Changing the current status i.e removing the record of the exiting resident and updating current status\n",
    "            # curr_status.loc[curr_status[self.uid].isin(uids_before_trans), \"LastElectricityCalcDate\"] = row[\"TansDate\"]\n",
    "            # curr_status.loc[curr_status[self.uid]==row[self.uid]] = np.nan\n",
    "            # self.update_current_status(new_status=curr_status, if_exists=\"replace\")"
   ]
  },
  {
   "cell_type": "code",
   "execution_count": null,
   "id": "7ea2174e-a5db-45c5-93f0-41bc6ecdcce3",
   "metadata": {},
   "outputs": [],
   "source": []
  },
  {
   "cell_type": "code",
   "execution_count": null,
   "id": "cf3a6f35-939a-418a-867d-4f22d9e80e37",
   "metadata": {},
   "outputs": [],
   "source": []
  },
  {
   "cell_type": "code",
   "execution_count": null,
   "id": "456722c2-2559-4ca6-8aeb-12f715f29c94",
   "metadata": {},
   "outputs": [],
   "source": []
  }
 ],
 "metadata": {
  "kernelspec": {
   "display_name": "Python 3 (ipykernel)",
   "language": "python",
   "name": "python3"
  },
  "language_info": {
   "codemirror_mode": {
    "name": "ipython",
    "version": 3
   },
   "file_extension": ".py",
   "mimetype": "text/x-python",
   "name": "python",
   "nbconvert_exporter": "python",
   "pygments_lexer": "ipython3",
   "version": "3.10.9"
  }
 },
 "nbformat": 4,
 "nbformat_minor": 5
}
